{
 "cells": [
  {
   "cell_type": "markdown",
   "metadata": {},
   "source": [
    "# Enunciado\n",
    "\n",
    "Desejamos fazer uma análise do desempenho dos estudantes de um determinado curso. Os dados de entrada contêm o\n",
    "nome do aluno e duas notas correspondente as duas avaliações realizadas.\n",
    "Escreva um programa que:\n",
    "\n",
    "- Informe o número de alunos aprovados, reprovados e que devem realizar exame no curso, sabendo que\n",
    "alunos com média (aritmética) maior ou igual a 7 estão aprovados, abaixo de 4 estão reprovados e os demais\n",
    "devem realizar exame;\n",
    "- Informe o nome do aluno que obteve a maior e a menor nota final no curso (se houver mais de um aluno\n",
    "com a mesma nota basta informar um nome);\n",
    "- Informe o número de alunos que tiveram nota acima da média na primeira avaliação;\n",
    "- Apresente um histograma da segunda avaliação. Um histograma mostra graficamente o número de alunos\n",
    "que obtiveram nota em cada um dos intervalos: [O a 0.9; I a 1.9; 2 a 2.9; .\n",
    ", 8a 8.9; 9 a 10]."
   ]
  },
  {
   "cell_type": "code",
   "execution_count": 12,
   "metadata": {},
   "outputs": [],
   "source": [
    "import matplotlib.pyplot as plt\n",
    "import matplotlib as mpl\n",
    "\n",
    "mpl.interactive(True)"
   ]
  },
  {
   "cell_type": "code",
   "execution_count": 13,
   "metadata": {},
   "outputs": [],
   "source": [
    "# -----------------------------------------------------------\n",
    "# Leitura do arquivo csv com as notas\n",
    "# -----------------------------------------------------------\n",
    "alunos = []\n",
    "with open(\"2. alunos.csv\") as csv:\n",
    "    csv.readline()\n",
    "    for line in csv:\n",
    "        line = line.split(\";\")\n",
    "        nome = line[0]\n",
    "        e1 = float(line[1].replace(\",\", \".\"))\n",
    "        e2 = float(line[2].replace(\",\", \".\"))\n",
    "        alunos.append([nome, e1, e2])"
   ]
  },
  {
   "cell_type": "code",
   "execution_count": 14,
   "metadata": {},
   "outputs": [
    {
     "name": "stdout",
     "output_type": "stream",
     "text": [
      "Aprovados:  23\n",
      "Em exame:   8\n",
      "Reprovados: 4\n"
     ]
    }
   ],
   "source": [
    "# -----------------------------------------------------------\n",
    "# Número de alunos aprovados, reprovados e em exame.\n",
    "# -----------------------------------------------------------\n",
    "aprovados = 0\n",
    "reprovados = 0\n",
    "em_exame = 0\n",
    "\n",
    "for aluno in alunos:\n",
    "    # Calcula a média para cada aluno\n",
    "    media = (aluno[1] + aluno[2]) / 2\n",
    "    # Adiciona ao final da lista de cada aluno e valor da média\n",
    "    aluno.append(media)\n",
    "\n",
    "    # Se maior|igual que 7               -> Aprovado\n",
    "    # Se maior|igual que 4 e menor que 7 -> Em exame\n",
    "    # Senão (menor que 4)                -> Reprovado\n",
    "    if media >= 7:\n",
    "        aprovados += 1\n",
    "    elif media >= 4:\n",
    "        em_exame += 1\n",
    "    else:\n",
    "        reprovados += 1\n",
    "\n",
    "print(f\"Aprovados:  {aprovados}\")\n",
    "print(f\"Em exame:   {em_exame}\")\n",
    "print(f\"Reprovados: {reprovados}\")"
   ]
  },
  {
   "cell_type": "code",
   "execution_count": 15,
   "metadata": {},
   "outputs": [
    {
     "name": "stdout",
     "output_type": "stream",
     "text": [
      "Aluno com a MAIOR média: THALES\n",
      "Aluno com a MENOR média: GUILHERME\n"
     ]
    }
   ],
   "source": [
    "# -----------------------------------------------------------\n",
    "# Nome do aluno com maior e menor notal final.\n",
    "# -----------------------------------------------------------\n",
    "\n",
    "# Inicialização das listas que receberão as informações de nome e nota\n",
    "# do aluno que teve a maior e menor média final\n",
    "maior_media = [\"\", 0]\n",
    "menor_media = [\"\", 10]\n",
    "\n",
    "for aluno in alunos:\n",
    "    # aluno[3] contém a média final do curso\n",
    "    if aluno[3] > maior_media[1]:\n",
    "        maior_media = [aluno[0], aluno[3]]\n",
    "\n",
    "    if aluno[3] < menor_media[1]:\n",
    "        menor_media = [aluno[0], aluno[3]]\n",
    "\n",
    "print(f\"Aluno com a MAIOR média: {maior_media[0]}\")\n",
    "print(f\"Aluno com a MENOR média: {menor_media[0]}\")"
   ]
  },
  {
   "cell_type": "code",
   "execution_count": 18,
   "metadata": {},
   "outputs": [
    {
     "name": "stdout",
     "output_type": "stream",
     "text": [
      "Número de alunos ACIMA da média na 1a avaliação: 25\n"
     ]
    }
   ],
   "source": [
    "# -----------------------------------------------------------\n",
    "# Número de alunos ACIMA da média na 1a avaliação.\n",
    "# -----------------------------------------------------------\n",
    "alunos_acima_da_media = sum(aluno[1] > 7 for aluno in alunos)\n",
    "\n",
    "print(f\"Número de alunos ACIMA da média na 1a avaliação: {alunos_acima_da_media}\")"
   ]
  },
  {
   "cell_type": "code",
   "execution_count": 17,
   "metadata": {},
   "outputs": [
    {
     "data": {
      "image/png": "[encoded data removed]",
      "text/plain": [
       "<Figure size 640x480 with 1 Axes>"
      ]
     },
     "metadata": {},
     "output_type": "display_data"
    }
   ],
   "source": [
    "# -----------------------------------------------------------\n",
    "# Histograma da 2a avaliação.\n",
    "# -----------------------------------------------------------\n",
    "\n",
    "# Intervalos determinados\n",
    "intervalos = [\"0-0.9\", \"1-1.9\", \"2-2.9\", \"3-3.9\", \"4-4.9\", \"5-5.9\", \"6-6.9\", \"7-7.9\", \"8-8.9\", \"9-10\"]\n",
    "\n",
    "# Lista para as contagens, onde cada posição correponde a um intervalo\n",
    "notas = [0] * len(intervalos)\n",
    "\n",
    "for aluno in alunos:\n",
    "    # aluno[2] contém as notas da Av 2\n",
    "    # Entre 0 e 0.9\n",
    "    if 0 <= aluno[2] < 1:\n",
    "        notas[0] += 1\n",
    "    elif aluno[2] < 2:\n",
    "        notas[1] += 1\n",
    "    elif aluno[2] < 3:\n",
    "        notas[2] += 1\n",
    "    elif aluno[2] < 4:\n",
    "        notas[3] += 1\n",
    "    elif aluno[2] < 5:\n",
    "        notas[4] += 1\n",
    "    elif aluno[2] < 6:\n",
    "        notas[5] += 1\n",
    "    elif aluno[2] < 7:\n",
    "        notas[6] += 1\n",
    "    elif aluno[2] < 8:\n",
    "        notas[7] += 1\n",
    "    elif aluno[2] < 9:\n",
    "        notas[8] += 1\n",
    "    else:\n",
    "        notas[9] += 1\n",
    "\n",
    "# Plot do gráfico\n",
    "plt.bar(intervalos, notas, 0.8)\n",
    "plt.title(\"Histograma da 2a Avaliação\")\n",
    "plt.xlabel(\"Notas\")\n",
    "plt.ylabel(\"Número de Alunos\")\n",
    "plt.yticks(range(10))\n",
    "plt.grid(axis=\"y\", linestyle=\"--\", alpha=0.1)\n",
    "plt.show()\n"
   ]
  }
 ],
 "metadata": {
  "kernelspec": {
   "display_name": "Python 3.10.6 64-bit",
   "language": "python",
   "name": "python3"
  },
  "language_info": {
   "codemirror_mode": {
    "name": "ipython",
    "version": 3
   },
   "file_extension": ".py",
   "mimetype": "text/x-python",
   "name": "python",
   "nbconvert_exporter": "python",
   "pygments_lexer": "ipython3",
   "version": "3.10.6"
  },
  "orig_nbformat": 4,
  "vscode": {
   "interpreter": {
    "hash": "26de051ba29f2982a8de78e945f0abaf191376122a1563185a90213a26c5da77"
   }
  }
 },
 "nbformat": 4,
 "nbformat_minor": 2
}
