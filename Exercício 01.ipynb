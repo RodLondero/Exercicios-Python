{
 "cells": [
  {
   "cell_type": "markdown",
   "metadata": {
    "id": "TQTtIsdPxYwk"
   },
   "source": [
    "# Exercício 01\n",
    "\n",
    "Escreva um programa que leia o nome de um lutador e seu peso. Em seguida, informe a categoria a que pertence o lutador, conforme a Tabela a seguir (note que a tabela \n",
    "foi criada para efeito deste exercício e não condiz com qualquer categoria de luta). A saída \n",
    "do programa deve exibir na tela uma frase com o padrão descrito a seguir:\n",
    "\n",
    "\n",
    "> *Nome fornecido: Pepe Jordão*\n",
    ">\n",
    "> *Peso fornecido: 73.4*\n",
    ">\n",
    "> *Frase a ser exibida: O lutador Pepe Jordão pesa 73,4 kg e se enquadra na categoria Ligeiro*\n",
    "\n",
    "| Categoria                               | Peso    \t|\n",
    "|-----------------------------------------|-------------|\n",
    "| Menor que 65kg                          | Pena    \t|\n",
    "| Maior ou igual a 65kg e menor que 72kg  | Leve    \t|\n",
    "| Maior ou igual a 72kg e menor que 79kg  | Ligeiro \t|\n",
    "| Maior ou igual a 79kg e menor que 86kg  | Meio-médio  |\n",
    "| Maior ou igual a 86kg e menor que 93kg  | Médio   \t|\n",
    "| Maior ou igual a 93kg e menor que 100kg | Meio-pesado |\n",
    "| Maior ou igual a 100kg\t\t\t      | Pesado      |\n",
    "\n",
    "Todos os dados devem ser lidos do teclado, sendo que o nome do lutador é string e o peso é um número real. Não é necessário armazenar os dados em uma estrutura de dados, basta imprimir na tela. \n",
    "\n",
    "Coloque todo o seu programa dentro de um laço de repetição e faça-o se encerrar \n",
    "quando uma determinada condição for satisfeita. A condição fica a seu critério.\n",
    "\n",
    "Imprima na tela um teste do seu programa utilizando o seu nome e os dois últimos dígitos do seu RU para o peso.\n"
   ]
  },
  {
   "cell_type": "code",
   "execution_count": null,
   "metadata": {
    "id": "scHyjW00yRAV"
   },
   "outputs": [],
   "source": [
    "opcaoContinuar = 's'        # Definição da condição para CONTINUAR o loop\n",
    "opcaoParar = 'n'            # Definição da condição para PARAR o loop\n",
    "\n",
    "while True:\n",
    "    continuar = ''\n",
    "    print(\"\\n\", \"-\"*100)\n",
    "\n",
    "    # Solicita o nome ao usuário e verifica\n",
    "    # - Se for apenas número ou vazio, pede para digitar novamente\n",
    "    nome = input(\"\\nNome do lutador: \")\n",
    "    while nome.isnumeric() or nome == \" \":\n",
    "        print(\"\\nDigite um nome.\")\n",
    "        nome = input(\"\\nNome do lutador: \")\n",
    "\n",
    "    # Solicita o peso ao usuário\n",
    "    # - Quando for digitado algum caracter, pede para digitar novamente\n",
    "    while True:\n",
    "        try:\n",
    "            peso = float(input(\"Peso: \"))\n",
    "            break\n",
    "        except:\n",
    "            print(\"Digite um número para o peso.\")\n",
    "\n",
    "    # Verificações de categoria\n",
    "    if (peso < 65):\n",
    "        categoria = \"Pena\"\n",
    "    elif (peso >= 65 and peso < 72):\n",
    "        categoria = \"Leve\"\n",
    "    elif (peso >= 72 and peso < 79):\n",
    "        categoria = \"Ligeiro\"\n",
    "    elif (peso >= 79 and peso < 86):\n",
    "        categoria = \"Meio-médio\"\n",
    "    elif (peso >= 86 and peso < 93):\n",
    "        categoria = \"Médio\"\n",
    "    elif (peso >= 93 and peso < 100):\n",
    "        categoria = \"Meio-pesado\"\n",
    "    elif (peso >= 100):\n",
    "        categoria = \"Pesado\"\n",
    "\n",
    "    # Imprime na tela as informações digitadas\n",
    "    print(\"\\nNome fornecido: \", nome)\n",
    "    print(\"Peso fornecido: \", peso)\n",
    "\n",
    "    # Imprime na tela a frase\n",
    "    print(\"\\nO lutador {:} pesa {:.2f}kg e se enquadra na categoria {:}\\n\".format(nome, peso, categoria))\n",
    "\n",
    "    # Pergunta se deseja continuar, caso seja escolhida a opcaoParar interrompe-se o loop\n",
    "    # A pergunta se repete até que o usuário escolha uma das opções definidas em opcaoContinuar e opcaoParar\n",
    "    while not continuar in [opcaoContinuar, opcaoParar]:\n",
    "        continuar = input(\"Deseja informar outro lutador [{continuar:}/{parar:}]: [{continuar:}]\".format(continuar=opcaoContinuar, parar=opcaoParar)) or '{:}'.format(opcaoContinuar)\n",
    "\n",
    "    if continuar == opcaoParar:\n",
    "        break"
   ]
  }
 ],
 "metadata": {
  "colab": {
   "authorship_tag": "ABX9TyM78n1LRaeCRSHO7tTv5dLJ",
   "collapsed_sections": [],
   "mount_file_id": "1Rqo0eRdaQTH7jNazWHNYor_2mdIQg_oq",
   "name": "Exercício 01.ipynb",
   "provenance": [],
   "toc_visible": true
  },
  "kernelspec": {
   "display_name": "Python 3",
   "language": "python",
   "name": "python3"
  },
  "language_info": {
   "codemirror_mode": {
    "name": "ipython",
    "version": 3
   },
   "file_extension": ".py",
   "mimetype": "text/x-python",
   "name": "python",
   "nbconvert_exporter": "python",
   "pygments_lexer": "ipython3",
   "version": "3.8.5"
  }
 },
 "nbformat": 4,
 "nbformat_minor": 1
}
